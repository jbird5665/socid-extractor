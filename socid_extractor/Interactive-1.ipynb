{
 "cells": [
  {
   "cell_type": "markdown",
   "metadata": {},
   "source": [
    "Connected to Python 3.11.4"
   ]
  },
  {
   "cell_type": "markdown",
   "metadata": {},
   "source": []
  },
  {
   "cell_type": "code",
   "execution_count": null,
   "metadata": {},
   "outputs": [],
   "source": []
  },
  {
   "cell_type": "code",
   "execution_count": null,
   "metadata": {},
   "outputs": [],
   "source": []
  },
  {
   "cell_type": "code",
   "execution_count": 6,
   "metadata": {},
   "outputs": [
    {
     "ename": "SyntaxError",
     "evalue": "incomplete input (2375044207.py, line 1)",
     "output_type": "error",
     "traceback": [
      "\u001b[1;36m  Cell \u001b[1;32mIn[6], line 1\u001b[1;36m\u001b[0m\n\u001b[1;33m    def extract_facebook_uid(\u001b[0m\n\u001b[1;37m                             ^\u001b[0m\n\u001b[1;31mSyntaxError\u001b[0m\u001b[1;31m:\u001b[0m incomplete input\n"
     ]
    }
   ],
   "source": [
    "def extract_facebook_uid("
   ]
  },
  {
   "cell_type": "code",
   "execution_count": null,
   "metadata": {},
   "outputs": [],
   "source": []
  },
  {
   "cell_type": "code",
   "execution_count": null,
   "metadata": {},
   "outputs": [
    {
     "ename": "SyntaxError",
     "evalue": "unmatched ')' (1056899133.py, line 1)",
     "output_type": "error",
     "traceback": [
      "\u001b[1;36m  Cell \u001b[1;32mIn[1], line 1\u001b[1;36m\u001b[0m\n\u001b[1;33m    link):\u001b[0m\n\u001b[1;37m        ^\u001b[0m\n\u001b[1;31mSyntaxError\u001b[0m\u001b[1;31m:\u001b[0m unmatched ')'\n"
     ]
    }
   ],
   "source": [
    "link):\n",
    "    avatar_re = re.search(r'graph.facebook.com/(\\w+)/picture', link)\n",
    "    if avatar_re:\n",
    "        return avatar_re.group(1)\n",
    "    return None\n",
    "\n",
    "\n",
    "def get_yandex_profile_pic(default_avatar_id):\n",
    "    url = 'https://avatars.mds.yandex.net/get-yapic/0/0-0/islands-300'\n",
    "    if default_avatar_id:\n",
    "        default_avatar_id = default_avatar_id.replace('user_avatar/yapic/', '')\n",
    "        url = f'https://avatars.mds.yandex.net/get-yapic/{default_avatar_id}/islands-200'\n",
    "    return url\n",
    "\n",
    "def decode_ya_str(val):\n",
    "    try:\n",
    "        return val.encode('iso-8859-1').decode('utf-8')\n",
    "    except:\n",
    "        return val\n",
    "\n",
    "\n",
    "def enrich_link(html_url):\n",
    "    fixed_url = html_url.lstrip('/')\n",
    "    if fixed_url and not fixed_url.startswith('http'):\n",
    "        fixed_url = 'https://' + fixed_url\n",
    "    return fixed_url\n",
    "\n",
    "\n",
    "# support timestamp with milliseconds\n",
    "# coming to common UTC timezone with print it\n",
    "def parse_datetime(t):\n",
    "    if not t:\n",
    "        return ''\n",
    "    elif len(str(t)) < 10:\n",
    "        t = math.floor(datetime.today().timestamp()) - t\n",
    "\n",
    "    if len(str(t)) == 10 and not '-' in str(t):\n",
    "        return datetime.fromtimestamp(int(t), tz=timezone.utc).strftime('%Y-%m-%d %H:%M:%S %Z')\n",
    "    elif len(str(t)) == 10 and '-' in str(t):\n",
    "        return datetime.strptime(t, '%Y-%m-%d').strftime('%Y-%m-%d %H:%M:%S %Z')\n",
    "    elif len(str(t)) == 13:\n",
    "        return datetime.fromtimestamp(float(t)/ 1000.0, tz=timezone.utc).strftime('%Y-%m-%d %H:%M:%S.{} %Z'.format(str(t)[-3:]))\n",
    "    \n",
    "    return t\n",
    "  \n",
    "\n",
    "def extract_digits(text):\n",
    "    digits_re = re.search(r'\\d+', text)\n",
    "    if digits_re:\n",
    "        return digits_re[0]\n",
    "    return ''\n",
    "\n",
    "\n",
    "def get_ucoz_email(text):\n",
    "    if text != 'Адрес скрыт':\n",
    "        return text\n",
    "    return ''\n",
    "\n",
    "\n",
    "def get_ucoz_userlink(user_dom_node):\n",
    "    prompt = user_dom_node.next_sibling.next_sibling.get('onclick')\n",
    "    user_link = prompt.split(\"'\")[-2]\n",
    "    return user_link\n",
    "\n",
    "\n",
    "def get_ucoz_domain(user_dom_node):\n",
    "    return get_ucoz_userlink(user_dom_node).rsplit('/', 2)[0]\n",
    "\n",
    "\n",
    "def get_ucoz_image(dom):\n",
    "    url = dom.find('span', class_='user_avatar').find('img').get('src')\n",
    "    if url.startswith('http'):\n",
    "        return url\n",
    "    domain = get_ucoz_domain(dom.find('div', string='Пользователь:'))\n",
    "    return domain + url\n",
    "\n",
    "\n",
    "def get_ucoz_uid_node(dom):\n",
    "    return dom.find('b', string='uID профиль') or dom.find('b', string='uNet профиль')\n",
    "\n",
    "def extract_periscope_uid(text):\n",
    "    userId = re.search(r'\"userId\":\"([\\w\\d]*)\"}', text)\n",
    "    return userId.group(1)\n",
    "    \n",
    "def get_mymail_uid(username):\n",
    "    # TODO: move to external function\n",
    "    import requests\n",
    "    req = requests.get('http://appsmail.ru/platform/mail/' + username)\n",
    "    return req.json()['uid']"
   ]
  }
 ],
 "metadata": {
  "kernelspec": {
   "display_name": "Python 3",
   "language": "python",
   "name": "python3"
  },
  "language_info": {
   "codemirror_mode": {
    "name": "ipython",
    "version": 3
   },
   "file_extension": ".py",
   "mimetype": "text/x-python",
   "name": "python",
   "nbconvert_exporter": "python",
   "pygments_lexer": "ipython3",
   "version": "3.11.4"
  }
 },
 "nbformat": 4,
 "nbformat_minor": 2
}
